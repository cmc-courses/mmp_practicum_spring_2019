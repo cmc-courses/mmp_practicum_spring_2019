{
 "cells": [
  {
   "cell_type": "markdown",
   "metadata": {
    "pycharm": {}
   },
   "source": [
    "# 1 практическое задание. Обучение полносвязной нейронной сети.\n",
    "\n",
    "## Практикум на ЭВМ для 317 группы, весна 2019\n",
    "\n",
    "#### Фамилия, имя: Находнов Максим\n",
    "\n",
    "Дата выдачи: 19 февраля\n",
    "\n",
    "Мягкий дедлайн: 28 февраля 23:59 "
   ]
  },
  {
   "cell_type": "code",
   "execution_count": 61,
   "metadata": {
    "pycharm": {}
   },
   "outputs": [],
   "source": [
    "import numpy as np\n",
    "from copy import deepcopy"
   ]
  },
  {
   "cell_type": "markdown",
   "metadata": {
    "pycharm": {}
   },
   "source": [
    "## Реализация нейронной сети (6 баллов)"
   ]
  },
  {
   "cell_type": "markdown",
   "metadata": {
    "pycharm": {}
   },
   "source": [
    "В этом задании вы обучите полносвязную нейронную сеть распознавать рукописные цифры (а что же еще, если не их :), [почти] самостоятельно реализовав все составляющие алгоритма обучения и предсказания.\n",
    "\n",
    "Для начала нам понадобится реализовать прямой и обратный проход через слои. Наши слои будут соответствовать следующему интерфейсу (на примере \"тождественного\" слоя):"
   ]
  },
  {
   "cell_type": "code",
   "execution_count": 62,
   "metadata": {
    "pycharm": {}
   },
   "outputs": [],
   "source": [
    "class IdentityLayer:\n",
    "    \"\"\"\n",
    "    A building block. Each layer is capable of performing two things:\n",
    "    \n",
    "    - Process input to get output:           \n",
    "    output = layer.forward(input)\n",
    "    \n",
    "    - Propagate gradients through itself:    \n",
    "    grad_input = layer.backward(input, grad_output)\n",
    "    \n",
    "    Some layers also have learnable parameters.\n",
    "    \n",
    "    Modified code from cs.hse DL course *\n",
    "    \"\"\"\n",
    "    def __init__(self):\n",
    "        \"\"\"Here you can initialize layer parameters (if any) \n",
    "        and auxiliary stuff. You should enumerate all parameters\n",
    "        in self.params\"\"\"\n",
    "        # An identity layer does nothing\n",
    "        self.input_data = None\n",
    "        self.params = []\n",
    "    \n",
    "    def forward(self, input_data):\n",
    "        \"\"\"\n",
    "        Takes input data of shape [batch, input_units], \n",
    "        returns output data [batch, output_units]\n",
    "        \"\"\"\n",
    "        # An identity layer just returns whatever it gets as input.\n",
    "        self.input_data = input_data\n",
    "        return input_data\n",
    "\n",
    "    def backward(self, grad_output): \n",
    "        \"\"\"\n",
    "        Performs a back propagation step through the layer, \n",
    "        with respect to the given input.\n",
    "        \n",
    "        To compute loss gradients w.r.t input, \n",
    "        you need to apply chain rule (backprop):\n",
    "        \n",
    "        d loss / d input  = (d loss / d layer) *  (d layer / d input)\n",
    "        \n",
    "        Luckily, you already receive d loss / d layer as input, \n",
    "        so you only need to multiply it by d layer / d x.\n",
    "        \n",
    "        The method returns:\n",
    "        * gradient w.r.t input (will be passed to \n",
    "          previous layer's backward method)\n",
    "        * flattened gradient w.r.t. parameters (with .ravel() \n",
    "          applied to each gradient). \n",
    "          If there are no params, return []\n",
    "        \"\"\"\n",
    "        # The gradient of an identity layer is precisely grad_output\n",
    "        input_dim = self.input_data.shape[1]\n",
    "        \n",
    "        d_layer_d_input = np.eye(input_dim)\n",
    "        \n",
    "        return np.dot(grad_output, d_layer_d_input), np.r_[[]] # chain rule"
   ]
  },
  {
   "cell_type": "markdown",
   "metadata": {
    "pycharm": {}
   },
   "source": [
    "### Слой нелинейности ReLU\n",
    "\n",
    "Для начала реализуем слой нелинейности $ReLU(x) = max(x, 0)$. Параметров у слоя нет. Метод forward должен вернуть результат поэлементного применения ReLU к входному массиву, метод backward - градиент функции потерь по входу слоя. В нуле будем считать производную равной 0. Обратите внимание, что при обратном проходе могут понадобиться величины, посчитанные во время прямого прохода, поэтому их стоит сохранить как атрибут класса."
   ]
  },
  {
   "cell_type": "code",
   "execution_count": 63,
   "metadata": {
    "pycharm": {}
   },
   "outputs": [],
   "source": [
    "class ReLU:\n",
    "    \"\"\"\n",
    "    Modified code from cs.hse DL course *\n",
    "    \"\"\"\n",
    "    def __init__(self):\n",
    "        \"\"\"ReLU layer simply applies elementwise rectified linear unit to all inputs\"\"\"\n",
    "        self.params = [] # ReLU has no parameters\n",
    "        self.negative_mask = None\n",
    "    \n",
    "    def __call__(self, input_data):\n",
    "        return self.forward(input_data)\n",
    "    \n",
    "    def forward(self, input_data):\n",
    "        \"\"\"Apply elementwise ReLU to [batch, num_units] matrix\"\"\"\n",
    "        self.negative_mask = input_data <= 0.\n",
    "        input_clone = deepcopy(input_data)\n",
    "        input_clone[self.negative_mask] = 0.\n",
    "        return input_clone\n",
    "        \n",
    "    \n",
    "    def backward(self, grad_output):\n",
    "        \"\"\"Compute gradient of loss w.r.t. ReLU input\n",
    "        grad_output shape: [batch, num_units]\n",
    "        output 1 shape: [batch, num_units]\n",
    "        output 2: []\n",
    "        \"\"\"\n",
    "        return (1. - self.negative_mask) * grad_output, np.r_[[]]"
   ]
  },
  {
   "cell_type": "markdown",
   "metadata": {
    "pycharm": {}
   },
   "source": [
    "### Полносвязный слой\n",
    "Далее реализуем полносвязный слой без нелинейности. У слоя два параметра: матрица весов и вектор сдвига.\n",
    "\n",
    "Обратите внимание на второй аргумент: в нем надо возвращать градиент по всем параметрам в одномерном виде. Для этого надо сначала применить .ravel() ко всем градиентам, а затем воспользоваться  np.r_:"
   ]
  },
  {
   "cell_type": "code",
   "execution_count": 64,
   "metadata": {
    "pycharm": {}
   },
   "outputs": [
    {
     "data": {
      "text/plain": [
       "array([1., 0., 0., 0., 1., 0., 0., 0., 1., 0., 1., 2., 3.])"
      ]
     },
     "execution_count": 64,
     "metadata": {},
     "output_type": "execute_result"
    }
   ],
   "source": [
    "# example\n",
    "np.r_[np.eye(3).ravel(), np.arange(4)]"
   ]
  },
  {
   "cell_type": "code",
   "execution_count": 65,
   "metadata": {
    "pycharm": {}
   },
   "outputs": [],
   "source": [
    "class Dense:\n",
    "    \"\"\"\n",
    "    Modified code from cs.hse DL course *\n",
    "    \"\"\"\n",
    "    def __init__(self, input_units, output_units):\n",
    "        \"\"\"\n",
    "        A dense layer is a layer which performs a learned affine transformation:\n",
    "        f(x) = W x + b\n",
    "        \"\"\"\n",
    "        # initialize weights with small random numbers from normal distribution\n",
    "        self.weights = np.random.randn(input_units, output_units) * 0.01\n",
    "        self.biases = np.zeros(output_units)\n",
    "        self.params = [self.weights, self.biases]\n",
    "        self.input_data = None\n",
    "    \n",
    "    def __call__(self, input_data):\n",
    "        return self.forward(input_data)\n",
    "    \n",
    "    def forward(self, input_data):\n",
    "        \"\"\"\n",
    "        Perform an affine transformation:\n",
    "        f(x) = W x + b\n",
    "        \n",
    "        input shape: [batch, input_units]\n",
    "        output shape: [batch, output units]\n",
    "        \"\"\"\n",
    "        self.input_data = input_data\n",
    "        return np.dot(input_data, self.weights) + self.biases\n",
    "        \n",
    "    \n",
    "    def backward(self, grad_output):\n",
    "        \"\"\"\n",
    "        compute gradients\n",
    "        grad_output shape: [batch, output_units]\n",
    "        output shapes: [batch, input_units], [num_params]\n",
    "        \n",
    "        hint: use function np.r_\n",
    "        np.r_[np.arange(3), np.arange(3)] = [0, 1, 2, 0, 1, 2]\n",
    "        \"\"\"\n",
    "        return (\n",
    "            np.dot(grad_output, self.weights.T), \n",
    "            np.r_[np.dot(self.input_data.T, grad_output).ravel(), np.sum(grad_output, axis=0).ravel()]\n",
    "        )"
   ]
  },
  {
   "cell_type": "markdown",
   "metadata": {
    "pycharm": {}
   },
   "source": [
    "### Проверка градиента\n",
    "\n",
    "Проверим правильность реализации с помощью функции численной проверки градиента. Функция берет на вход callable объект (функцию от одного аргумента-матрицы) и аргумент и вычисляет приближенный градиент функции в этой точке."
   ]
  },
  {
   "cell_type": "code",
   "execution_count": 66,
   "metadata": {
    "pycharm": {}
   },
   "outputs": [],
   "source": [
    "def eval_numerical_gradient(f, x, verbose=False, h=0.00001):\n",
    "    \"\"\"Evaluates gradient df/dx via finite differences:\n",
    "    df/dx ~ (f(x+h) - f(x-h)) / 2h\n",
    "    Adopted from https://github.com/ddtm/dl-course/\n",
    "    \"\"\"\n",
    "    grad = np.zeros_like(x)\n",
    "    # iterate over all indexes in x\n",
    "    it = np.nditer(x, flags=['multi_index'], op_flags=['readwrite'])\n",
    "    while not it.finished:\n",
    "        \n",
    "        # evaluate function at x+h\n",
    "        ix = it.multi_index\n",
    "        oldval = x[ix]\n",
    "        x[ix] = oldval + h # increment by h\n",
    "        fxph = f(x) # evaluate f(x + h)\n",
    "        x[ix] = oldval - h\n",
    "        fxmh = f(x) # evaluate f(x - h)\n",
    "        x[ix] = oldval # restore\n",
    "        # compute the partial derivative with centered formula\n",
    "        grad[ix] = (fxph - fxmh) / (2 * h) # the slope\n",
    "        if verbose:\n",
    "            print (ix, grad[ix])\n",
    "        it.iternext() # step to next dimension\n",
    "\n",
    "    return grad"
   ]
  },
  {
   "cell_type": "markdown",
   "metadata": {
    "pycharm": {}
   },
   "source": [
    "Вычислите аналитический и численный градиенты по входу слоя ReLU от функции\n",
    "$$ f(y) = \\sum_i y_i, \\quad y = ReLU(x) $$\n",
    "\n",
    "Следующая ячейка после заполнения должна не выдавать ошибку :)"
   ]
  },
  {
   "cell_type": "code",
   "execution_count": 67,
   "metadata": {
    "pycharm": {}
   },
   "outputs": [],
   "source": [
    "points = np.linspace(-1, 1, 10 * 12).reshape([10, 12])\n",
    "r = ReLU()\n",
    "\n",
    "r(points)\n",
    "grads = r.backward(np.ones_like(points))[0]\n",
    "numeric_grads = eval_numerical_gradient(lambda x: np.sum(r(x)), points)\n",
    "\n",
    "assert np.allclose(grads, numeric_grads, rtol=1e-3, atol=0)"
   ]
  },
  {
   "cell_type": "markdown",
   "metadata": {
    "pycharm": {}
   },
   "source": [
    "Вычислите аналитический и численный градиенты по входу полносвязного слоя от функции\n",
    "$$ f(y) = \\sum_i y_i, \\quad y = W x + b $$"
   ]
  },
  {
   "cell_type": "code",
   "execution_count": 68,
   "metadata": {
    "pycharm": {}
   },
   "outputs": [],
   "source": [
    "x = np.linspace(-1, 1, 10 * 12).reshape([10, 12])\n",
    "l = Dense(12, 32)\n",
    "\n",
    "l(x)\n",
    "grads = l.backward(np.ones([10, 32]))[0]\n",
    "numeric_grads = eval_numerical_gradient(lambda x: np.sum(l(x)), points)\n",
    "\n",
    "assert np.allclose(grads, numeric_grads, rtol=1e-3, atol=0)"
   ]
  },
  {
   "cell_type": "markdown",
   "metadata": {
    "pycharm": {}
   },
   "source": [
    "### Реализация softmax-слоя и функции потерь"
   ]
  },
  {
   "cell_type": "markdown",
   "metadata": {
    "pycharm": {}
   },
   "source": [
    "Для решения задачи многоклассовой классификации обычно используют softmax в качестве нелинейности на последнем слое, чтобы получить вероятности классов для каждого объекта:\n",
    "$$\\hat y = softmax(x)  = \\bigl \\{\\frac {exp(x_i)}{\\sum_j exp(x_j)} \\bigr \\}_{i=1}^K, \\quad K - \\text{число классов}$$\n",
    "В этом случае удобно оптимизировать логарифм правдоподобия:\n",
    "$$L(y, \\hat y) = -\\sum_{i=1}^K y_i \\log \\hat y_i \\rightarrow \\min,$$\n",
    "где $y_i=1$, если объект принадлежит $i$-му классу, и 0 иначе. Записанная в таком виде, эта функция потерь совпадает с выражением для кросс-энтропии. Очевидно, что ее также можно переписать через индексацию, если через $y_i$ обозначить класс данного объекта:\n",
    "$$L(y, \\hat y) = - \\log \\hat y_{y_i} \\rightarrow \\min$$\n",
    "В таком виде ее удобно реализовывать."
   ]
  },
  {
   "cell_type": "markdown",
   "metadata": {
    "pycharm": {}
   },
   "source": [
    "Реализуйте слой Softmax (без параметров). Метод forward должен вычислять логарифм от softmax, а метод backward - пропускать градиенты. В общем случае в промежуточных вычислениях backward получится трехмерный тензор, однако для нашей конкретной функции потерь все вычисления можно реализовать в матричном виде.  Поэтому мы будем предполагать, что аргумент grad_output - это матрица, у которой в каждой строке только одно ненулевое значение (не обязательно единица)."
   ]
  },
  {
   "cell_type": "code",
   "execution_count": 69,
   "metadata": {
    "pycharm": {}
   },
   "outputs": [],
   "source": [
    "from scipy.special import logsumexp\n",
    "from scipy.special import softmax\n",
    "# use this function instead of np.log(np.sum(np.exp(...))) !\n",
    "# because it is more stable"
   ]
  },
  {
   "cell_type": "code",
   "execution_count": 70,
   "metadata": {
    "pycharm": {}
   },
   "outputs": [],
   "source": [
    "class Softmax:\n",
    "    def __init__(self):\n",
    "        self.params = []\n",
    "        self.input_data = None\n",
    "        \n",
    "    def __call__(self, input_data):\n",
    "        return self.forward(input_data)\n",
    "    \n",
    "    def forward(self, input_data):\n",
    "        \"\"\"\n",
    "        Applies softmax to each row and then applies component-wise log\n",
    "        Input shape: [batch, num_units]\n",
    "        Output shape: [batch, num_units]\n",
    "        \"\"\"\n",
    "        max_value = np.max(input_data, axis=1).reshape(-1, 1)\n",
    "        self.input_data = input_data - max_value\n",
    "        return self.input_data - logsumexp(self.input_data, axis=1).reshape(-1, 1)\n",
    "        \n",
    "    def backward(self, grad_output):\n",
    "        \"\"\"\n",
    "        Propagartes gradients.\n",
    "        Assumes that each row of grad_output contains only 1\n",
    "        non-zero element\n",
    "        Input shape: [batch, num_units]\n",
    "        Output shape: [batch, num_units]\n",
    "        Do not forget to return [] as second value (grad w.r.t. params)\n",
    "        \"\"\"\n",
    "        return grad_output - np.sum(grad_output, axis=1).reshape(-1, 1) * softmax(self.input_data, axis=1), np.r_[[]]"
   ]
  },
  {
   "cell_type": "markdown",
   "metadata": {
    "pycharm": {}
   },
   "source": [
    "Реализуйте функцию потерь и градиенты функции потерь. "
   ]
  },
  {
   "cell_type": "code",
   "execution_count": 71,
   "metadata": {
    "pycharm": {}
   },
   "outputs": [],
   "source": [
    "def crossentropy(activations, target):\n",
    "    \"\"\"\n",
    "    returns negative log-likelihood of target under model represented by\n",
    "    activations (log probabilities of classes)\n",
    "    each arg has shape [batch, num_classes]\n",
    "    output shape: 1 (scalar)\n",
    "    \"\"\"\n",
    "    return -np.sum(activations * target)\n",
    "    \n",
    "\n",
    "def grad_crossentropy(activations, target):\n",
    "    \"\"\"\n",
    "    returns gradient of negative log-likelihood w.r.t. activations\n",
    "    each arg has shape [batch, num_classes]\n",
    "    output shape: [batch, num_classes]\n",
    "    \n",
    "    hint: this is just one-hot encoding of target vector\n",
    "          multiplied by -1\n",
    "    \"\"\"\n",
    "    return -target"
   ]
  },
  {
   "cell_type": "markdown",
   "metadata": {
    "pycharm": {}
   },
   "source": [
    "Наконец, выполните проверку softmax-слоя, используя функцию потерь и ее градиент.  "
   ]
  },
  {
   "cell_type": "code",
   "execution_count": 73,
   "metadata": {
    "pycharm": {}
   },
   "outputs": [],
   "source": [
    "points = np.linspace(-1, 1, 10 * 12).reshape([10, 12])\n",
    "s = Softmax()\n",
    "\n",
    "target = np.arange(10)\n",
    "target = np.eye(12)[target]\n",
    "\n",
    "grads = s.backward(grad_crossentropy(s(points), target))[0]\n",
    "numeric_grads = eval_numerical_gradient(lambda x: crossentropy(s(x), target), points)\n",
    "\n",
    "assert np.allclose(grads, numeric_grads, rtol=1e-3, atol=0)"
   ]
  },
  {
   "cell_type": "markdown",
   "metadata": {
    "pycharm": {}
   },
   "source": [
    "## Загрузка данных\n",
    "\n",
    "Мы реализаовали все архитектурные составляющие нашей нейронной сети. Осталось загрузить данные и обучить модель. Мы будем работать с датасетом digits, каждый объект в котором - это 8x8 изображение рукописной цифры."
   ]
  },
  {
   "cell_type": "code",
   "execution_count": 74,
   "metadata": {
    "pycharm": {}
   },
   "outputs": [],
   "source": [
    "import matplotlib.pyplot as plt\n",
    "%matplotlib inline"
   ]
  },
  {
   "cell_type": "code",
   "execution_count": 75,
   "metadata": {
    "pycharm": {}
   },
   "outputs": [],
   "source": [
    "from sklearn.datasets import load_digits"
   ]
  },
  {
   "cell_type": "code",
   "execution_count": 76,
   "metadata": {
    "pycharm": {}
   },
   "outputs": [],
   "source": [
    "X, y = load_digits(return_X_y=True)"
   ]
  },
  {
   "cell_type": "code",
   "execution_count": 77,
   "metadata": {
    "pycharm": {}
   },
   "outputs": [],
   "source": [
    "y = np.eye(10)[y]"
   ]
  },
  {
   "cell_type": "code",
   "execution_count": 78,
   "metadata": {
    "pycharm": {}
   },
   "outputs": [
    {
     "data": {
      "text/plain": [
       "((1797, 64), (1797, 10))"
      ]
     },
     "execution_count": 78,
     "metadata": {},
     "output_type": "execute_result"
    }
   ],
   "source": [
    "X.shape, y.shape"
   ]
  },
  {
   "cell_type": "markdown",
   "metadata": {
    "pycharm": {}
   },
   "source": [
    "Разделим данные на обучение и контроль:"
   ]
  },
  {
   "cell_type": "code",
   "execution_count": 79,
   "metadata": {
    "pycharm": {}
   },
   "outputs": [],
   "source": [
    "from sklearn.model_selection import train_test_split"
   ]
  },
  {
   "cell_type": "code",
   "execution_count": 80,
   "metadata": {
    "pycharm": {}
   },
   "outputs": [],
   "source": [
    "X_train, X_test, y_train, y_test = train_test_split(X, y, random_state=0)"
   ]
  },
  {
   "cell_type": "code",
   "execution_count": 81,
   "metadata": {
    "pycharm": {}
   },
   "outputs": [
    {
     "data": {
      "text/plain": [
       "((1347, 64), (450, 64))"
      ]
     },
     "execution_count": 81,
     "metadata": {},
     "output_type": "execute_result"
    }
   ],
   "source": [
    "X_train.shape, X_test.shape"
   ]
  },
  {
   "cell_type": "markdown",
   "metadata": {
    "pycharm": {}
   },
   "source": [
    "## Сборка и обучение нейронной сети (2 балла)"
   ]
  },
  {
   "cell_type": "markdown",
   "metadata": {
    "pycharm": {}
   },
   "source": [
    "В нашей реализации нейросеть - это список слоев. Например:"
   ]
  },
  {
   "cell_type": "code",
   "execution_count": 82,
   "metadata": {},
   "outputs": [],
   "source": [
    "def make_network(hidden_layers_size, n_layers):\n",
    "    network = []\n",
    "    if n_layers == 1:\n",
    "        network.append(Dense(X_train.shape[1], 10))\n",
    "    else:\n",
    "        network.append(Dense(X_train.shape[1], hidden_layers_size))\n",
    "        for _ in range(n_layers - 2):\n",
    "            network.append(ReLU())\n",
    "            network.append(Dense(hidden_layers_size, hidden_layers_size))\n",
    "        network.append(ReLU())\n",
    "        network.append(Dense(hidden_layers_size, 10))\n",
    "    network.append(Softmax())\n",
    "    return network"
   ]
  },
  {
   "cell_type": "code",
   "execution_count": 83,
   "metadata": {},
   "outputs": [],
   "source": [
    "network = make_network(32, 5)"
   ]
  },
  {
   "cell_type": "markdown",
   "metadata": {
    "pycharm": {}
   },
   "source": [
    "Для проверки, хорошо ли сеть обучилась, нам понадобится вычислять точность (accuracy) на данной выборке. Для этого реализуйте функцию, которая делает предсказания на каждом объекте:"
   ]
  },
  {
   "cell_type": "code",
   "execution_count": 84,
   "metadata": {
    "pycharm": {}
   },
   "outputs": [],
   "source": [
    "def predict_logits(network, X):\n",
    "    for layer in network:\n",
    "        X = layer(X)\n",
    "    return X\n",
    "\n",
    "def predict(network, X):\n",
    "    \"\"\"\n",
    "    returns predictions for each object in X\n",
    "    network: list of layers\n",
    "    X: raw data\n",
    "    X shape: [batch, features_num]\n",
    "    output: array of classes, each from 0 to 9\n",
    "    output shape: [batch]\n",
    "    \"\"\"\n",
    "    logits = predict_logits(network, X)\n",
    "    return np.argmax(logits, axis=1)"
   ]
  },
  {
   "cell_type": "markdown",
   "metadata": {
    "pycharm": {}
   },
   "source": [
    "Мы будем обучать параметры нейросети с помощью готовой функции оптимизации из модуля scipy:"
   ]
  },
  {
   "cell_type": "code",
   "execution_count": 85,
   "metadata": {
    "pycharm": {}
   },
   "outputs": [],
   "source": [
    "from scipy.optimize import minimize"
   ]
  },
  {
   "cell_type": "code",
   "execution_count": 86,
   "metadata": {
    "pycharm": {}
   },
   "outputs": [
    {
     "name": "stdout",
     "output_type": "stream",
     "text": [
      "Help on function minimize in module scipy.optimize._minimize:\n",
      "\n",
      "minimize(fun, x0, args=(), method=None, jac=None, hess=None, hessp=None, bounds=None, constraints=(), tol=None, callback=None, options=None)\n",
      "    Minimization of scalar function of one or more variables.\n",
      "    \n",
      "    Parameters\n",
      "    ----------\n",
      "    fun : callable\n",
      "        The objective function to be minimized.\n",
      "    \n",
      "            ``fun(x, *args) -> float``\n",
      "    \n",
      "        where x is an 1-D array with shape (n,) and `args`\n",
      "        is a tuple of the fixed parameters needed to completely\n",
      "        specify the function.\n",
      "    x0 : ndarray, shape (n,)\n",
      "        Initial guess. Array of real elements of size (n,),\n",
      "        where 'n' is the number of independent variables.\n",
      "    args : tuple, optional\n",
      "        Extra arguments passed to the objective function and its\n",
      "        derivatives (`fun`, `jac` and `hess` functions).\n",
      "    method : str or callable, optional\n",
      "        Type of solver.  Should be one of\n",
      "    \n",
      "            - 'Nelder-Mead' :ref:`(see here) <optimize.minimize-neldermead>`\n",
      "            - 'Powell'      :ref:`(see here) <optimize.minimize-powell>`\n",
      "            - 'CG'          :ref:`(see here) <optimize.minimize-cg>`\n",
      "            - 'BFGS'        :ref:`(see here) <optimize.minimize-bfgs>`\n",
      "            - 'Newton-CG'   :ref:`(see here) <optimize.minimize-newtoncg>`\n",
      "            - 'L-BFGS-B'    :ref:`(see here) <optimize.minimize-lbfgsb>`\n",
      "            - 'TNC'         :ref:`(see here) <optimize.minimize-tnc>`\n",
      "            - 'COBYLA'      :ref:`(see here) <optimize.minimize-cobyla>`\n",
      "            - 'SLSQP'       :ref:`(see here) <optimize.minimize-slsqp>`\n",
      "            - 'trust-constr':ref:`(see here) <optimize.minimize-trustconstr>`\n",
      "            - 'dogleg'      :ref:`(see here) <optimize.minimize-dogleg>`\n",
      "            - 'trust-ncg'   :ref:`(see here) <optimize.minimize-trustncg>`\n",
      "            - 'trust-exact' :ref:`(see here) <optimize.minimize-trustexact>`\n",
      "            - 'trust-krylov' :ref:`(see here) <optimize.minimize-trustkrylov>`\n",
      "            - custom - a callable object (added in version 0.14.0),\n",
      "              see below for description.\n",
      "    \n",
      "        If not given, chosen to be one of ``BFGS``, ``L-BFGS-B``, ``SLSQP``,\n",
      "        depending if the problem has constraints or bounds.\n",
      "    jac : {callable,  '2-point', '3-point', 'cs', bool}, optional\n",
      "        Method for computing the gradient vector. Only for CG, BFGS,\n",
      "        Newton-CG, L-BFGS-B, TNC, SLSQP, dogleg, trust-ncg, trust-krylov,\n",
      "        trust-exact and trust-constr. If it is a callable, it should be a\n",
      "        function that returns the gradient vector:\n",
      "    \n",
      "            ``jac(x, *args) -> array_like, shape (n,)``\n",
      "    \n",
      "        where x is an array with shape (n,) and `args` is a tuple with\n",
      "        the fixed parameters. Alternatively, the keywords\n",
      "        {'2-point', '3-point', 'cs'} select a finite\n",
      "        difference scheme for numerical estimation of the gradient. Options\n",
      "        '3-point' and 'cs' are available only to 'trust-constr'.\n",
      "        If `jac` is a Boolean and is True, `fun` is assumed to return the\n",
      "        gradient along with the objective function. If False, the gradient\n",
      "        will be estimated using '2-point' finite difference estimation.\n",
      "    hess : {callable, '2-point', '3-point', 'cs', HessianUpdateStrategy},  optional\n",
      "        Method for computing the Hessian matrix. Only for Newton-CG, dogleg,\n",
      "        trust-ncg,  trust-krylov, trust-exact and trust-constr. If it is\n",
      "        callable, it should return the  Hessian matrix:\n",
      "    \n",
      "            ``hess(x, *args) -> {LinearOperator, spmatrix, array}, (n, n)``\n",
      "    \n",
      "        where x is a (n,) ndarray and `args` is a tuple with the fixed\n",
      "        parameters. LinearOperator and sparse matrix returns are\n",
      "        allowed only for 'trust-constr' method. Alternatively, the keywords\n",
      "        {'2-point', '3-point', 'cs'} select a finite difference scheme\n",
      "        for numerical estimation. Or, objects implementing\n",
      "        `HessianUpdateStrategy` interface can be used to approximate\n",
      "        the Hessian. Available quasi-Newton methods implementing\n",
      "        this interface are:\n",
      "    \n",
      "            - `BFGS`;\n",
      "            - `SR1`.\n",
      "    \n",
      "        Whenever the gradient is estimated via finite-differences,\n",
      "        the Hessian cannot be estimated with options\n",
      "        {'2-point', '3-point', 'cs'} and needs to be\n",
      "        estimated using one of the quasi-Newton strategies.\n",
      "        Finite-difference options {'2-point', '3-point', 'cs'} and\n",
      "        `HessianUpdateStrategy` are available only for 'trust-constr' method.\n",
      "    hessp : callable, optional\n",
      "        Hessian of objective function times an arbitrary vector p. Only for\n",
      "        Newton-CG, trust-ncg, trust-krylov, trust-constr.\n",
      "        Only one of `hessp` or `hess` needs to be given.  If `hess` is\n",
      "        provided, then `hessp` will be ignored.  `hessp` must compute the\n",
      "        Hessian times an arbitrary vector:\n",
      "    \n",
      "            ``hessp(x, p, *args) ->  ndarray shape (n,)``\n",
      "    \n",
      "        where x is a (n,) ndarray, p is an arbitrary vector with\n",
      "        dimension (n,) and `args` is a tuple with the fixed\n",
      "        parameters.\n",
      "    bounds : sequence or `Bounds`, optional\n",
      "        Bounds on variables for L-BFGS-B, TNC, SLSQP and\n",
      "        trust-constr methods. There are two ways to specify the bounds:\n",
      "    \n",
      "            1. Instance of `Bounds` class.\n",
      "            2. Sequence of ``(min, max)`` pairs for each element in `x`. None\n",
      "               is used to specify no bound.\n",
      "    \n",
      "    constraints : {Constraint, dict} or List of {Constraint, dict}, optional\n",
      "        Constraints definition (only for COBYLA, SLSQP and trust-constr).\n",
      "        Constraints for 'trust-constr' are defined as a single object or a\n",
      "        list of objects specifying constraints to the optimization problem.\n",
      "        Available constraints are:\n",
      "    \n",
      "            - `LinearConstraint`\n",
      "            - `NonlinearConstraint`\n",
      "    \n",
      "        Constraints for COBYLA, SLSQP are defined as a list of dictionaries.\n",
      "        Each dictionary with fields:\n",
      "    \n",
      "            type : str\n",
      "                Constraint type: 'eq' for equality, 'ineq' for inequality.\n",
      "            fun : callable\n",
      "                The function defining the constraint.\n",
      "            jac : callable, optional\n",
      "                The Jacobian of `fun` (only for SLSQP).\n",
      "            args : sequence, optional\n",
      "                Extra arguments to be passed to the function and Jacobian.\n",
      "    \n",
      "        Equality constraint means that the constraint function result is to\n",
      "        be zero whereas inequality means that it is to be non-negative.\n",
      "        Note that COBYLA only supports inequality constraints.\n",
      "    tol : float, optional\n",
      "        Tolerance for termination. For detailed control, use solver-specific\n",
      "        options.\n",
      "    options : dict, optional\n",
      "        A dictionary of solver options. All methods accept the following\n",
      "        generic options:\n",
      "    \n",
      "            maxiter : int\n",
      "                Maximum number of iterations to perform.\n",
      "            disp : bool\n",
      "                Set to True to print convergence messages.\n",
      "    \n",
      "        For method-specific options, see :func:`show_options()`.\n",
      "    callback : callable, optional\n",
      "        Called after each iteration. For 'trust-constr' it is a callable with\n",
      "        the signature:\n",
      "    \n",
      "            ``callback(xk, OptimizeResult state) -> bool``\n",
      "    \n",
      "        where ``xk`` is the current parameter vector. and ``state``\n",
      "        is an `OptimizeResult` object, with the same fields\n",
      "        as the ones from the return.  If callback returns True\n",
      "        the algorithm execution is terminated.\n",
      "        For all the other methods, the signature is:\n",
      "    \n",
      "            ``callback(xk)``\n",
      "    \n",
      "        where ``xk`` is the current parameter vector.\n",
      "    \n",
      "    Returns\n",
      "    -------\n",
      "    res : OptimizeResult\n",
      "        The optimization result represented as a ``OptimizeResult`` object.\n",
      "        Important attributes are: ``x`` the solution array, ``success`` a\n",
      "        Boolean flag indicating if the optimizer exited successfully and\n",
      "        ``message`` which describes the cause of the termination. See\n",
      "        `OptimizeResult` for a description of other attributes.\n",
      "    \n",
      "    \n",
      "    See also\n",
      "    --------\n",
      "    minimize_scalar : Interface to minimization algorithms for scalar\n",
      "        univariate functions\n",
      "    show_options : Additional options accepted by the solvers\n",
      "    \n",
      "    Notes\n",
      "    -----\n",
      "    This section describes the available solvers that can be selected by the\n",
      "    'method' parameter. The default method is *BFGS*.\n",
      "    \n",
      "    **Unconstrained minimization**\n",
      "    \n",
      "    Method :ref:`Nelder-Mead <optimize.minimize-neldermead>` uses the\n",
      "    Simplex algorithm [1]_, [2]_. This algorithm is robust in many\n",
      "    applications. However, if numerical computation of derivative can be\n",
      "    trusted, other algorithms using the first and/or second derivatives\n",
      "    information might be preferred for their better performance in\n",
      "    general.\n",
      "    \n",
      "    Method :ref:`Powell <optimize.minimize-powell>` is a modification\n",
      "    of Powell's method [3]_, [4]_ which is a conjugate direction\n",
      "    method. It performs sequential one-dimensional minimizations along\n",
      "    each vector of the directions set (`direc` field in `options` and\n",
      "    `info`), which is updated at each iteration of the main\n",
      "    minimization loop. The function need not be differentiable, and no\n",
      "    derivatives are taken.\n",
      "    \n",
      "    Method :ref:`CG <optimize.minimize-cg>` uses a nonlinear conjugate\n",
      "    gradient algorithm by Polak and Ribiere, a variant of the\n",
      "    Fletcher-Reeves method described in [5]_ pp.  120-122. Only the\n",
      "    first derivatives are used.\n",
      "    \n",
      "    Method :ref:`BFGS <optimize.minimize-bfgs>` uses the quasi-Newton\n",
      "    method of Broyden, Fletcher, Goldfarb, and Shanno (BFGS) [5]_\n",
      "    pp. 136. It uses the first derivatives only. BFGS has proven good\n",
      "    performance even for non-smooth optimizations. This method also\n",
      "    returns an approximation of the Hessian inverse, stored as\n",
      "    `hess_inv` in the OptimizeResult object.\n",
      "    \n",
      "    Method :ref:`Newton-CG <optimize.minimize-newtoncg>` uses a\n",
      "    Newton-CG algorithm [5]_ pp. 168 (also known as the truncated\n",
      "    Newton method). It uses a CG method to the compute the search\n",
      "    direction. See also *TNC* method for a box-constrained\n",
      "    minimization with a similar algorithm. Suitable for large-scale\n",
      "    problems.\n",
      "    \n",
      "    Method :ref:`dogleg <optimize.minimize-dogleg>` uses the dog-leg\n",
      "    trust-region algorithm [5]_ for unconstrained minimization. This\n",
      "    algorithm requires the gradient and Hessian; furthermore the\n",
      "    Hessian is required to be positive definite.\n",
      "    \n",
      "    Method :ref:`trust-ncg <optimize.minimize-trustncg>` uses the\n",
      "    Newton conjugate gradient trust-region algorithm [5]_ for\n",
      "    unconstrained minimization. This algorithm requires the gradient\n",
      "    and either the Hessian or a function that computes the product of\n",
      "    the Hessian with a given vector. Suitable for large-scale problems.\n",
      "    \n",
      "    Method :ref:`trust-krylov <optimize.minimize-trustkrylov>` uses\n",
      "    the Newton GLTR trust-region algorithm [14]_, [15]_ for unconstrained\n",
      "    minimization. This algorithm requires the gradient\n",
      "    and either the Hessian or a function that computes the product of\n",
      "    the Hessian with a given vector. Suitable for large-scale problems.\n",
      "    On indefinite problems it requires usually less iterations than the\n",
      "    `trust-ncg` method and is recommended for medium and large-scale problems.\n",
      "    \n",
      "    Method :ref:`trust-exact <optimize.minimize-trustexact>`\n",
      "    is a trust-region method for unconstrained minimization in which\n",
      "    quadratic subproblems are solved almost exactly [13]_. This\n",
      "    algorithm requires the gradient and the Hessian (which is\n",
      "    *not* required to be positive definite). It is, in many\n",
      "    situations, the Newton method to converge in fewer iteraction\n",
      "    and the most recommended for small and medium-size problems.\n",
      "    \n",
      "    **Bound-Constrained minimization**\n",
      "    \n",
      "    Method :ref:`L-BFGS-B <optimize.minimize-lbfgsb>` uses the L-BFGS-B\n",
      "    algorithm [6]_, [7]_ for bound constrained minimization.\n",
      "    \n",
      "    Method :ref:`TNC <optimize.minimize-tnc>` uses a truncated Newton\n",
      "    algorithm [5]_, [8]_ to minimize a function with variables subject\n",
      "    to bounds. This algorithm uses gradient information; it is also\n",
      "    called Newton Conjugate-Gradient. It differs from the *Newton-CG*\n",
      "    method described above as it wraps a C implementation and allows\n",
      "    each variable to be given upper and lower bounds.\n",
      "    \n",
      "    **Constrained Minimization**\n",
      "    \n",
      "    Method :ref:`COBYLA <optimize.minimize-cobyla>` uses the\n",
      "    Constrained Optimization BY Linear Approximation (COBYLA) method\n",
      "    [9]_, [10]_, [11]_. The algorithm is based on linear\n",
      "    approximations to the objective function and each constraint. The\n",
      "    method wraps a FORTRAN implementation of the algorithm. The\n",
      "    constraints functions 'fun' may return either a single number\n",
      "    or an array or list of numbers.\n",
      "    \n",
      "    Method :ref:`SLSQP <optimize.minimize-slsqp>` uses Sequential\n",
      "    Least SQuares Programming to minimize a function of several\n",
      "    variables with any combination of bounds, equality and inequality\n",
      "    constraints. The method wraps the SLSQP Optimization subroutine\n",
      "    originally implemented by Dieter Kraft [12]_. Note that the\n",
      "    wrapper handles infinite values in bounds by converting them into\n",
      "    large floating values.\n",
      "    \n",
      "    Method :ref:`trust-constr <optimize.minimize-trustconstr>` is a\n",
      "    trust-region algorithm for constrained optimization. It swiches\n",
      "    between two implementations depending on the problem definition.\n",
      "    It is the most versatile constrained minimization algorithm\n",
      "    implemented in SciPy and the most appropriate for large-scale problems.\n",
      "    For equality constrained problems it is an implementation of Byrd-Omojokun\n",
      "    Trust-Region SQP method described in [17]_ and in [5]_, p. 549. When\n",
      "    inequality constraints  are imposed as well, it swiches to the trust-region\n",
      "    interior point  method described in [16]_. This interior point algorithm,\n",
      "    in turn, solves inequality constraints by introducing slack variables\n",
      "    and solving a sequence of equality-constrained barrier problems\n",
      "    for progressively smaller values of the barrier parameter.\n",
      "    The previously described equality constrained SQP method is\n",
      "    used to solve the subproblems with increasing levels of accuracy\n",
      "    as the iterate gets closer to a solution.\n",
      "    \n",
      "    **Finite-Difference Options**\n",
      "    \n",
      "    For Method :ref:`trust-constr <optimize.minimize-trustconstr>`\n",
      "    the gradient and the Hessian may be approximated using\n",
      "    three finite-difference schemes: {'2-point', '3-point', 'cs'}.\n",
      "    The scheme 'cs' is, potentially, the most accurate but it\n",
      "    requires the function to correctly handles complex inputs and to\n",
      "    be differentiable in the complex plane. The scheme '3-point' is more\n",
      "    accurate than '2-point' but requires twice as much operations.\n",
      "    \n",
      "    **Custom minimizers**\n",
      "    \n",
      "    It may be useful to pass a custom minimization method, for example\n",
      "    when using a frontend to this method such as `scipy.optimize.basinhopping`\n",
      "    or a different library.  You can simply pass a callable as the ``method``\n",
      "    parameter.\n",
      "    \n",
      "    The callable is called as ``method(fun, x0, args, **kwargs, **options)``\n",
      "    where ``kwargs`` corresponds to any other parameters passed to `minimize`\n",
      "    (such as `callback`, `hess`, etc.), except the `options` dict, which has\n",
      "    its contents also passed as `method` parameters pair by pair.  Also, if\n",
      "    `jac` has been passed as a bool type, `jac` and `fun` are mangled so that\n",
      "    `fun` returns just the function values and `jac` is converted to a function\n",
      "    returning the Jacobian.  The method shall return an ``OptimizeResult``\n",
      "    object.\n",
      "    \n",
      "    The provided `method` callable must be able to accept (and possibly ignore)\n",
      "    arbitrary parameters; the set of parameters accepted by `minimize` may\n",
      "    expand in future versions and then these parameters will be passed to\n",
      "    the method.  You can find an example in the scipy.optimize tutorial.\n",
      "    \n",
      "    .. versionadded:: 0.11.0\n",
      "    \n",
      "    References\n",
      "    ----------\n",
      "    .. [1] Nelder, J A, and R Mead. 1965. A Simplex Method for Function\n",
      "        Minimization. The Computer Journal 7: 308-13.\n",
      "    .. [2] Wright M H. 1996. Direct search methods: Once scorned, now\n",
      "        respectable, in Numerical Analysis 1995: Proceedings of the 1995\n",
      "        Dundee Biennial Conference in Numerical Analysis (Eds. D F\n",
      "        Griffiths and G A Watson). Addison Wesley Longman, Harlow, UK.\n",
      "        191-208.\n",
      "    .. [3] Powell, M J D. 1964. An efficient method for finding the minimum of\n",
      "       a function of several variables without calculating derivatives. The\n",
      "       Computer Journal 7: 155-162.\n",
      "    .. [4] Press W, S A Teukolsky, W T Vetterling and B P Flannery.\n",
      "       Numerical Recipes (any edition), Cambridge University Press.\n",
      "    .. [5] Nocedal, J, and S J Wright. 2006. Numerical Optimization.\n",
      "       Springer New York.\n",
      "    .. [6] Byrd, R H and P Lu and J. Nocedal. 1995. A Limited Memory\n",
      "       Algorithm for Bound Constrained Optimization. SIAM Journal on\n",
      "       Scientific and Statistical Computing 16 (5): 1190-1208.\n",
      "    .. [7] Zhu, C and R H Byrd and J Nocedal. 1997. L-BFGS-B: Algorithm\n",
      "       778: L-BFGS-B, FORTRAN routines for large scale bound constrained\n",
      "       optimization. ACM Transactions on Mathematical Software 23 (4):\n",
      "       550-560.\n",
      "    .. [8] Nash, S G. Newton-Type Minimization Via the Lanczos Method.\n",
      "       1984. SIAM Journal of Numerical Analysis 21: 770-778.\n",
      "    .. [9] Powell, M J D. A direct search optimization method that models\n",
      "       the objective and constraint functions by linear interpolation.\n",
      "       1994. Advances in Optimization and Numerical Analysis, eds. S. Gomez\n",
      "       and J-P Hennart, Kluwer Academic (Dordrecht), 51-67.\n",
      "    .. [10] Powell M J D. Direct search algorithms for optimization\n",
      "       calculations. 1998. Acta Numerica 7: 287-336.\n",
      "    .. [11] Powell M J D. A view of algorithms for optimization without\n",
      "       derivatives. 2007.Cambridge University Technical Report DAMTP\n",
      "       2007/NA03\n",
      "    .. [12] Kraft, D. A software package for sequential quadratic\n",
      "       programming. 1988. Tech. Rep. DFVLR-FB 88-28, DLR German Aerospace\n",
      "       Center -- Institute for Flight Mechanics, Koln, Germany.\n",
      "    .. [13] Conn, A. R., Gould, N. I., and Toint, P. L.\n",
      "       Trust region methods. 2000. Siam. pp. 169-200.\n",
      "    .. [14] F. Lenders, C. Kirches, A. Potschka: \"trlib: A vector-free\n",
      "       implementation of the GLTR method for iterative solution of\n",
      "       the trust region problem\", https://arxiv.org/abs/1611.04718\n",
      "    .. [15] N. Gould, S. Lucidi, M. Roma, P. Toint: \"Solving the\n",
      "       Trust-Region Subproblem using the Lanczos Method\",\n",
      "       SIAM J. Optim., 9(2), 504--525, (1999).\n",
      "    .. [16] Byrd, Richard H., Mary E. Hribar, and Jorge Nocedal. 1999.\n",
      "        An interior point algorithm for large-scale nonlinear  programming.\n",
      "        SIAM Journal on Optimization 9.4: 877-900.\n",
      "    .. [17] Lalee, Marucha, Jorge Nocedal, and Todd Plantega. 1998. On the\n",
      "        implementation of an algorithm for large-scale equality constrained\n",
      "        optimization. SIAM Journal on Optimization 8.3: 682-706.\n",
      "    \n",
      "    Examples\n",
      "    --------\n",
      "    Let us consider the problem of minimizing the Rosenbrock function. This\n",
      "    function (and its respective derivatives) is implemented in `rosen`\n",
      "    (resp. `rosen_der`, `rosen_hess`) in the `scipy.optimize`.\n",
      "    \n",
      "    >>> from scipy.optimize import minimize, rosen, rosen_der\n",
      "    \n",
      "    A simple application of the *Nelder-Mead* method is:\n",
      "    \n",
      "    >>> x0 = [1.3, 0.7, 0.8, 1.9, 1.2]\n",
      "    >>> res = minimize(rosen, x0, method='Nelder-Mead', tol=1e-6)\n",
      "    >>> res.x\n",
      "    array([ 1.,  1.,  1.,  1.,  1.])\n",
      "    \n",
      "    Now using the *BFGS* algorithm, using the first derivative and a few\n",
      "    options:\n",
      "    \n",
      "    >>> res = minimize(rosen, x0, method='BFGS', jac=rosen_der,\n",
      "    ...                options={'gtol': 1e-6, 'disp': True})\n",
      "    Optimization terminated successfully.\n",
      "             Current function value: 0.000000\n",
      "             Iterations: 26\n",
      "             Function evaluations: 31\n",
      "             Gradient evaluations: 31\n",
      "    >>> res.x\n",
      "    array([ 1.,  1.,  1.,  1.,  1.])\n",
      "    >>> print(res.message)\n",
      "    Optimization terminated successfully.\n",
      "    >>> res.hess_inv\n",
      "    array([[ 0.00749589,  0.01255155,  0.02396251,  0.04750988,  0.09495377],  # may vary\n",
      "           [ 0.01255155,  0.02510441,  0.04794055,  0.09502834,  0.18996269],\n",
      "           [ 0.02396251,  0.04794055,  0.09631614,  0.19092151,  0.38165151],\n",
      "           [ 0.04750988,  0.09502834,  0.19092151,  0.38341252,  0.7664427 ],\n",
      "           [ 0.09495377,  0.18996269,  0.38165151,  0.7664427,   1.53713523]])\n",
      "    \n",
      "    \n",
      "    Next, consider a minimization problem with several constraints (namely\n",
      "    Example 16.4 from [5]_). The objective function is:\n",
      "    \n",
      "    >>> fun = lambda x: (x[0] - 1)**2 + (x[1] - 2.5)**2\n",
      "    \n",
      "    There are three constraints defined as:\n",
      "    \n",
      "    >>> cons = ({'type': 'ineq', 'fun': lambda x:  x[0] - 2 * x[1] + 2},\n",
      "    ...         {'type': 'ineq', 'fun': lambda x: -x[0] - 2 * x[1] + 6},\n",
      "    ...         {'type': 'ineq', 'fun': lambda x: -x[0] + 2 * x[1] + 2})\n",
      "    \n",
      "    And variables must be positive, hence the following bounds:\n",
      "    \n",
      "    >>> bnds = ((0, None), (0, None))\n",
      "    \n",
      "    The optimization problem is solved using the SLSQP method as:\n",
      "    \n",
      "    >>> res = minimize(fun, (2, 0), method='SLSQP', bounds=bnds,\n",
      "    ...                constraints=cons)\n",
      "    \n",
      "    It should converge to the theoretical solution (1.4 ,1.7).\n",
      "\n"
     ]
    }
   ],
   "source": [
    "help(minimize)"
   ]
  },
  {
   "cell_type": "markdown",
   "metadata": {
    "pycharm": {}
   },
   "source": [
    "Эта функция имеет стандартный интерфейс: нужно передать callable объект, который вычисляет значение и градиент целевой функции, а также точку старта оптимизации - начальное приближение (одномерный numpy-массив). Поэтому нам понадобятся функции для сбора и задания всех весов нашей нейросети (именно для них мы всегда записывали параметры слоя в список layer.params)"
   ]
  },
  {
   "cell_type": "code",
   "execution_count": 87,
   "metadata": {
    "pycharm": {}
   },
   "outputs": [],
   "source": [
    "def get_weights(network):\n",
    "    weights = []\n",
    "    for layer in network:\n",
    "        for param in layer.params:\n",
    "            weights += param.ravel().tolist()\n",
    "    return np.array(weights)\n",
    "\n",
    "def set_weights(weights, network):\n",
    "    i = 0\n",
    "    for layer in network:\n",
    "        for param in layer.params:\n",
    "            l = param.size\n",
    "            param[:] = weights[i:i+l].\\\n",
    "                             reshape(param.shape)\n",
    "            i += l"
   ]
  },
  {
   "cell_type": "markdown",
   "metadata": {
    "pycharm": {}
   },
   "source": [
    "Вам нужно реализовать ту самую функцию, которую мы будем передавать в minimize. Эта функция должна брать на вход текущую точку (вектор всех параметров), а также список дополнительных параметров (мы будем передавать через них нашу сеть и обучающие данные) и возвращать значение критерия качества (кросс-энтропия) и его градиент по параметрам модели."
   ]
  },
  {
   "cell_type": "code",
   "execution_count": 88,
   "metadata": {
    "pycharm": {}
   },
   "outputs": [],
   "source": [
    "def compute_loss_grad(weights, args):\n",
    "    \"\"\"\n",
    "    takes current weights and computes cross-entropy and gradients\n",
    "    weights shape: [num_parameters]\n",
    "    output 1: loss (scalar)\n",
    "    output 2: gradint w.r.t. weights, shape: [num_parameters]\n",
    "    \n",
    "    hint: firstly perform forward pass through the whole network\n",
    "    then compute loss and its gradients\n",
    "    then perform backward pass, transmitting first baskward output\n",
    "    to the previos layer and saving second baskward output in a list\n",
    "    finally flatten all the gradients in this list\n",
    "    (in the order from the first to the last layer)\n",
    "    \n",
    "    Do not forget to set weights of the network!\n",
    "    \"\"\"\n",
    "    network, X, y = args\n",
    "    set_weights(weights, network)\n",
    "    \n",
    "    log_probas = predict_logits(network, X)\n",
    "    cross_entropy = crossentropy(log_probas, y)\n",
    "    grad_output = grad_crossentropy(log_probas, y)\n",
    "    \n",
    "    weights = []\n",
    "    for layer in reversed(network):\n",
    "        grad_output, current_weights = layer.backward(grad_output)\n",
    "        weights.append(current_weights)\n",
    "\n",
    "    return cross_entropy, np.concatenate(weights[::-1])"
   ]
  },
  {
   "cell_type": "markdown",
   "metadata": {
    "pycharm": {}
   },
   "source": [
    "Теперь мы готовы обучать нашу нейросеть. "
   ]
  },
  {
   "cell_type": "code",
   "execution_count": 89,
   "metadata": {
    "pycharm": {}
   },
   "outputs": [],
   "source": [
    "weights = get_weights(network)"
   ]
  },
  {
   "cell_type": "code",
   "execution_count": 90,
   "metadata": {
    "pycharm": {}
   },
   "outputs": [],
   "source": [
    "res = minimize(\n",
    "    compute_loss_grad, weights,  # fun and start point\n",
    "    args=[network, X_train, y_train], # args passed to fun\n",
    "    method=\"L-BFGS-B\", # optimization method\n",
    "    jac=True, # says that gradient are computed in fun\n",
    ")"
   ]
  },
  {
   "cell_type": "code",
   "execution_count": 91,
   "metadata": {
    "pycharm": {}
   },
   "outputs": [
    {
     "data": {
      "text/plain": [
       "dict_keys(['fun', 'jac', 'nfev', 'nit', 'status', 'message', 'x', 'success', 'hess_inv'])"
      ]
     },
     "execution_count": 91,
     "metadata": {},
     "output_type": "execute_result"
    }
   ],
   "source": [
    "res.keys()"
   ]
  },
  {
   "cell_type": "code",
   "execution_count": 92,
   "metadata": {
    "pycharm": {}
   },
   "outputs": [
    {
     "data": {
      "text/plain": [
       "413"
      ]
     },
     "execution_count": 92,
     "metadata": {},
     "output_type": "execute_result"
    }
   ],
   "source": [
    "res[\"nit\"] # number of iterations (should be >> 10)"
   ]
  },
  {
   "cell_type": "code",
   "execution_count": 93,
   "metadata": {
    "pycharm": {}
   },
   "outputs": [
    {
     "data": {
      "text/plain": [
       "True"
      ]
     },
     "execution_count": 93,
     "metadata": {},
     "output_type": "execute_result"
    }
   ],
   "source": [
    "res[\"success\"] # should be True"
   ]
  },
  {
   "cell_type": "code",
   "execution_count": 94,
   "metadata": {
    "pycharm": {}
   },
   "outputs": [
    {
     "data": {
      "text/plain": [
       "b'CONVERGENCE: NORM_OF_PROJECTED_GRADIENT_<=_PGTOL'"
      ]
     },
     "execution_count": 94,
     "metadata": {},
     "output_type": "execute_result"
    }
   ],
   "source": [
    "res['message']"
   ]
  },
  {
   "cell_type": "code",
   "execution_count": 95,
   "metadata": {
    "pycharm": {}
   },
   "outputs": [
    {
     "data": {
      "text/plain": [
       "array([ 1.37125954e-04,  2.49100669e-03,  1.64583432e-03, ...,\n",
       "        3.73294963e-01, -7.95842198e-01,  2.70653473e-01])"
      ]
     },
     "execution_count": 95,
     "metadata": {},
     "output_type": "execute_result"
    }
   ],
   "source": [
    "res[\"x\"] # leraned weights"
   ]
  },
  {
   "cell_type": "markdown",
   "metadata": {
    "pycharm": {}
   },
   "source": [
    "Выведите качество на обучении (X_train, y_train) и на контроле (X_test, y_test. Не забудьте установить веса!"
   ]
  },
  {
   "cell_type": "code",
   "execution_count": 96,
   "metadata": {
    "pycharm": {}
   },
   "outputs": [
    {
     "name": "stdout",
     "output_type": "stream",
     "text": [
      "Cross Entropy (Train/Test): 0.000/1073.153\n",
      "Accuracy (Train/Test): 1.000/0.924\n"
     ]
    }
   ],
   "source": [
    "set_weights(res['x'], network)\n",
    "print(\n",
    "    \"Cross Entropy (Train/Test): {0:.3f}/{1:.3f}\".format(\n",
    "        crossentropy(predict_logits(network, X_train), y_train),\n",
    "        crossentropy(predict_logits(network, X_test), y_test)\n",
    "    )\n",
    ")\n",
    "\n",
    "print(\n",
    "    \"Accuracy (Train/Test): {0:.3f}/{1:.3f}\".format(\n",
    "        np.mean(predict(network, X_train) == np.argmax(y_train, axis=1)),\n",
    "        np.mean(predict(network, X_test) == np.argmax(y_test, axis=1))\n",
    "    )\n",
    ")"
   ]
  },
  {
   "cell_type": "markdown",
   "metadata": {
    "pycharm": {}
   },
   "source": [
    "У minimize есть также аргумент callback - в нее можно передать функцию, которая будет вызываться после каждой итерации оптимизации. Такую функцию удобно оформить в виде метода класса, который будет сохранять качество на обучении контроле после каждой итерации. Реализуйте этот метод в классе Callback:"
   ]
  },
  {
   "cell_type": "code",
   "execution_count": 97,
   "metadata": {
    "pycharm": {}
   },
   "outputs": [],
   "source": [
    "class Callback:\n",
    "    def __init__(self, network, X_train, y_train, X_test, y_test, print=False):\n",
    "        self.iteration = 0\n",
    "        self.network = network\n",
    "        self.X_train = X_train\n",
    "        self.X_test = X_test\n",
    "        self.y_train = y_train\n",
    "        self.y_test = y_test\n",
    "        self.print = print\n",
    "        self.train_acc = []\n",
    "        self.test_acc = []\n",
    "        self.train_ce = []\n",
    "        self.test_ce = []\n",
    "        \n",
    "    def call(self, weights):\n",
    "        \"\"\"\n",
    "        computes quality on train and test set with given weights\n",
    "        and saves to self.train_acc and self.test_acc\n",
    "        if self.print is True, also prints these 2 values\n",
    "        \"\"\"        \n",
    "        self.iteration += 1\n",
    "        set_weights(weights, self.network)\n",
    "        \n",
    "        self.train_acc.append(np.mean(predict(network, X_train) == np.argmax(y_train, axis=1)))\n",
    "        self.test_acc.append(np.mean(predict(network, X_test) == np.argmax(y_test, axis=1)))\n",
    "        \n",
    "        self.train_ce.append(crossentropy(predict_logits(network, X_train), y_train))\n",
    "        self.test_ce.append(crossentropy(predict_logits(network, X_test), y_test))\n",
    "        if self.print:\n",
    "            print('\\n Iteration: {0:d}'.format(self.iteration))\n",
    "            print('Cross Entropy (Train/Test): {0:.3f}/{1:.3f}'.format(self.train_ce[-1], self.test_ce[-1]))\n",
    "            print('Accuracy (Train/Test): {0:.3f}/{1:.3f}'.format(self.train_acc[-1], self.test_acc[-1]))            "
   ]
  },
  {
   "cell_type": "code",
   "execution_count": 100,
   "metadata": {
    "pycharm": {}
   },
   "outputs": [
    {
     "name": "stdout",
     "output_type": "stream",
     "text": [
      "\n",
      " Iteration: 1\n",
      "Cross Entropy (Train/Test): 3092.361/1038.291\n",
      "Accuracy (Train/Test): 0.106/0.084\n",
      "\n",
      " Iteration: 2\n",
      "Cross Entropy (Train/Test): 3082.559/1040.939\n",
      "Accuracy (Train/Test): 0.181/0.151\n",
      "\n",
      " Iteration: 3\n",
      "Cross Entropy (Train/Test): 3078.683/1044.117\n",
      "Accuracy (Train/Test): 0.180/0.147\n",
      "\n",
      " Iteration: 4\n",
      "Cross Entropy (Train/Test): 3063.937/1043.869\n",
      "Accuracy (Train/Test): 0.132/0.102\n",
      "\n",
      " Iteration: 5\n",
      "Cross Entropy (Train/Test): 3039.576/1045.986\n",
      "Accuracy (Train/Test): 0.110/0.084\n",
      "\n",
      " Iteration: 6\n",
      "Cross Entropy (Train/Test): 2990.123/1031.504\n",
      "Accuracy (Train/Test): 0.112/0.087\n",
      "\n",
      " Iteration: 7\n",
      "Cross Entropy (Train/Test): 2799.418/964.645\n",
      "Accuracy (Train/Test): 0.223/0.196\n",
      "\n",
      " Iteration: 8\n",
      "Cross Entropy (Train/Test): 2476.952/853.545\n",
      "Accuracy (Train/Test): 0.258/0.247\n",
      "\n",
      " Iteration: 9\n",
      "Cross Entropy (Train/Test): 2267.691/780.969\n",
      "Accuracy (Train/Test): 0.355/0.338\n",
      "\n",
      " Iteration: 10\n",
      "Cross Entropy (Train/Test): 2115.892/724.607\n",
      "Accuracy (Train/Test): 0.471/0.458\n",
      "\n",
      " Iteration: 11\n",
      "Cross Entropy (Train/Test): 1820.139/624.137\n",
      "Accuracy (Train/Test): 0.555/0.516\n",
      "\n",
      " Iteration: 12\n",
      "Cross Entropy (Train/Test): 1648.797/560.334\n",
      "Accuracy (Train/Test): 0.600/0.569\n",
      "\n",
      " Iteration: 13\n",
      "Cross Entropy (Train/Test): 1438.189/486.168\n",
      "Accuracy (Train/Test): 0.681/0.669\n",
      "\n",
      " Iteration: 14\n",
      "Cross Entropy (Train/Test): 1267.824/432.199\n",
      "Accuracy (Train/Test): 0.696/0.682\n",
      "\n",
      " Iteration: 15\n",
      "Cross Entropy (Train/Test): 1167.145/397.608\n",
      "Accuracy (Train/Test): 0.719/0.680\n",
      "\n",
      " Iteration: 16\n",
      "Cross Entropy (Train/Test): 1090.328/368.162\n",
      "Accuracy (Train/Test): 0.766/0.733\n",
      "\n",
      " Iteration: 17\n",
      "Cross Entropy (Train/Test): 994.659/330.688\n",
      "Accuracy (Train/Test): 0.789/0.780\n",
      "\n",
      " Iteration: 18\n",
      "Cross Entropy (Train/Test): 913.068/306.224\n",
      "Accuracy (Train/Test): 0.788/0.769\n",
      "\n",
      " Iteration: 19\n",
      "Cross Entropy (Train/Test): 847.260/288.913\n",
      "Accuracy (Train/Test): 0.811/0.800\n",
      "\n",
      " Iteration: 20\n",
      "Cross Entropy (Train/Test): 807.948/280.868\n",
      "Accuracy (Train/Test): 0.815/0.818\n",
      "\n",
      " Iteration: 21\n",
      "Cross Entropy (Train/Test): 766.153/269.805\n",
      "Accuracy (Train/Test): 0.825/0.809\n",
      "\n",
      " Iteration: 22\n",
      "Cross Entropy (Train/Test): 714.546/256.378\n",
      "Accuracy (Train/Test): 0.834/0.833\n",
      "\n",
      " Iteration: 23\n",
      "Cross Entropy (Train/Test): 656.433/227.789\n",
      "Accuracy (Train/Test): 0.844/0.844\n",
      "\n",
      " Iteration: 24\n",
      "Cross Entropy (Train/Test): 578.922/207.956\n",
      "Accuracy (Train/Test): 0.862/0.858\n",
      "\n",
      " Iteration: 25\n",
      "Cross Entropy (Train/Test): 528.008/196.429\n",
      "Accuracy (Train/Test): 0.872/0.864\n",
      "\n",
      " Iteration: 26\n",
      "Cross Entropy (Train/Test): 480.670/181.219\n",
      "Accuracy (Train/Test): 0.886/0.860\n",
      "\n",
      " Iteration: 27\n",
      "Cross Entropy (Train/Test): 445.670/172.876\n",
      "Accuracy (Train/Test): 0.895/0.869\n",
      "\n",
      " Iteration: 28\n",
      "Cross Entropy (Train/Test): 423.779/163.539\n",
      "Accuracy (Train/Test): 0.898/0.882\n",
      "\n",
      " Iteration: 29\n",
      "Cross Entropy (Train/Test): 407.469/158.114\n",
      "Accuracy (Train/Test): 0.897/0.887\n",
      "\n",
      " Iteration: 30\n",
      "Cross Entropy (Train/Test): 385.086/150.530\n",
      "Accuracy (Train/Test): 0.904/0.898\n",
      "\n",
      " Iteration: 31\n",
      "Cross Entropy (Train/Test): 344.739/135.819\n",
      "Accuracy (Train/Test): 0.915/0.911\n",
      "\n",
      " Iteration: 32\n",
      "Cross Entropy (Train/Test): 325.327/140.384\n",
      "Accuracy (Train/Test): 0.918/0.904\n",
      "\n",
      " Iteration: 33\n",
      "Cross Entropy (Train/Test): 268.978/116.312\n",
      "Accuracy (Train/Test): 0.938/0.927\n",
      "\n",
      " Iteration: 34\n",
      "Cross Entropy (Train/Test): 252.349/110.865\n",
      "Accuracy (Train/Test): 0.942/0.936\n",
      "\n",
      " Iteration: 35\n",
      "Cross Entropy (Train/Test): 233.225/106.638\n",
      "Accuracy (Train/Test): 0.952/0.944\n",
      "\n",
      " Iteration: 36\n",
      "Cross Entropy (Train/Test): 214.629/102.853\n",
      "Accuracy (Train/Test): 0.954/0.944\n",
      "\n",
      " Iteration: 37\n",
      "Cross Entropy (Train/Test): 194.867/101.921\n",
      "Accuracy (Train/Test): 0.955/0.947\n",
      "\n",
      " Iteration: 38\n",
      "Cross Entropy (Train/Test): 178.553/100.740\n",
      "Accuracy (Train/Test): 0.959/0.936\n",
      "\n",
      " Iteration: 39\n",
      "Cross Entropy (Train/Test): 164.815/97.914\n",
      "Accuracy (Train/Test): 0.964/0.940\n",
      "\n",
      " Iteration: 40\n",
      "Cross Entropy (Train/Test): 149.104/97.012\n",
      "Accuracy (Train/Test): 0.965/0.942\n",
      "\n",
      " Iteration: 41\n",
      "Cross Entropy (Train/Test): 137.404/97.434\n",
      "Accuracy (Train/Test): 0.964/0.944\n",
      "\n",
      " Iteration: 42\n",
      "Cross Entropy (Train/Test): 122.418/94.236\n",
      "Accuracy (Train/Test): 0.968/0.942\n",
      "\n",
      " Iteration: 43\n",
      "Cross Entropy (Train/Test): 110.134/90.713\n",
      "Accuracy (Train/Test): 0.971/0.944\n",
      "\n",
      " Iteration: 44\n",
      "Cross Entropy (Train/Test): 105.246/91.845\n",
      "Accuracy (Train/Test): 0.976/0.951\n",
      "\n",
      " Iteration: 45\n",
      "Cross Entropy (Train/Test): 98.217/81.639\n",
      "Accuracy (Train/Test): 0.976/0.956\n",
      "\n",
      " Iteration: 46\n",
      "Cross Entropy (Train/Test): 96.145/81.364\n",
      "Accuracy (Train/Test): 0.976/0.956\n",
      "\n",
      " Iteration: 47\n",
      "Cross Entropy (Train/Test): 89.428/81.311\n",
      "Accuracy (Train/Test): 0.981/0.956\n",
      "\n",
      " Iteration: 48\n",
      "Cross Entropy (Train/Test): 81.604/81.882\n",
      "Accuracy (Train/Test): 0.983/0.953\n",
      "\n",
      " Iteration: 49\n",
      "Cross Entropy (Train/Test): 76.156/84.708\n",
      "Accuracy (Train/Test): 0.982/0.953\n",
      "\n",
      " Iteration: 50\n",
      "Cross Entropy (Train/Test): 67.290/84.837\n",
      "Accuracy (Train/Test): 0.986/0.956\n",
      "\n",
      " Iteration: 51\n",
      "Cross Entropy (Train/Test): 63.352/82.930\n",
      "Accuracy (Train/Test): 0.986/0.956\n",
      "\n",
      " Iteration: 52\n",
      "Cross Entropy (Train/Test): 56.502/81.247\n",
      "Accuracy (Train/Test): 0.987/0.953\n",
      "\n",
      " Iteration: 53\n",
      "Cross Entropy (Train/Test): 50.673/78.251\n",
      "Accuracy (Train/Test): 0.987/0.956\n",
      "\n",
      " Iteration: 54\n",
      "Cross Entropy (Train/Test): 43.724/76.029\n",
      "Accuracy (Train/Test): 0.990/0.956\n",
      "\n",
      " Iteration: 55\n",
      "Cross Entropy (Train/Test): 36.549/76.590\n",
      "Accuracy (Train/Test): 0.993/0.956\n",
      "\n",
      " Iteration: 56\n",
      "Cross Entropy (Train/Test): 34.828/70.034\n",
      "Accuracy (Train/Test): 0.993/0.956\n",
      "\n",
      " Iteration: 57\n",
      "Cross Entropy (Train/Test): 30.837/72.747\n",
      "Accuracy (Train/Test): 0.995/0.953\n",
      "\n",
      " Iteration: 58\n",
      "Cross Entropy (Train/Test): 29.162/71.561\n",
      "Accuracy (Train/Test): 0.996/0.958\n",
      "\n",
      " Iteration: 59\n",
      "Cross Entropy (Train/Test): 26.221/71.808\n",
      "Accuracy (Train/Test): 0.998/0.953\n",
      "\n",
      " Iteration: 60\n",
      "Cross Entropy (Train/Test): 23.524/72.087\n",
      "Accuracy (Train/Test): 0.998/0.956\n",
      "\n",
      " Iteration: 61\n",
      "Cross Entropy (Train/Test): 21.235/75.350\n",
      "Accuracy (Train/Test): 0.997/0.960\n",
      "\n",
      " Iteration: 62\n",
      "Cross Entropy (Train/Test): 17.033/75.347\n",
      "Accuracy (Train/Test): 0.999/0.960\n",
      "\n",
      " Iteration: 63\n",
      "Cross Entropy (Train/Test): 15.327/76.334\n",
      "Accuracy (Train/Test): 0.999/0.962\n",
      "\n",
      " Iteration: 64\n",
      "Cross Entropy (Train/Test): 13.111/79.400\n",
      "Accuracy (Train/Test): 0.999/0.960\n",
      "\n",
      " Iteration: 65\n",
      "Cross Entropy (Train/Test): 10.774/81.801\n",
      "Accuracy (Train/Test): 1.000/0.953\n",
      "\n",
      " Iteration: 66\n",
      "Cross Entropy (Train/Test): 9.170/88.558\n",
      "Accuracy (Train/Test): 1.000/0.951\n",
      "\n",
      " Iteration: 67\n",
      "Cross Entropy (Train/Test): 7.516/90.446\n",
      "Accuracy (Train/Test): 1.000/0.951\n",
      "\n",
      " Iteration: 68\n",
      "Cross Entropy (Train/Test): 6.670/92.603\n",
      "Accuracy (Train/Test): 1.000/0.949\n",
      "\n",
      " Iteration: 69\n",
      "Cross Entropy (Train/Test): 5.532/88.121\n",
      "Accuracy (Train/Test): 1.000/0.953\n",
      "\n",
      " Iteration: 70\n",
      "Cross Entropy (Train/Test): 5.153/88.435\n",
      "Accuracy (Train/Test): 1.000/0.953\n",
      "\n",
      " Iteration: 71\n",
      "Cross Entropy (Train/Test): 4.591/89.145\n",
      "Accuracy (Train/Test): 1.000/0.953\n",
      "\n",
      " Iteration: 72\n",
      "Cross Entropy (Train/Test): 3.956/89.915\n",
      "Accuracy (Train/Test): 1.000/0.956\n",
      "\n",
      " Iteration: 73\n",
      "Cross Entropy (Train/Test): 3.063/90.849\n",
      "Accuracy (Train/Test): 1.000/0.958\n",
      "\n",
      " Iteration: 74\n",
      "Cross Entropy (Train/Test): 2.356/91.670\n",
      "Accuracy (Train/Test): 1.000/0.956\n",
      "\n",
      " Iteration: 75\n",
      "Cross Entropy (Train/Test): 1.718/94.798\n",
      "Accuracy (Train/Test): 1.000/0.960\n",
      "\n",
      " Iteration: 76\n",
      "Cross Entropy (Train/Test): 1.428/94.947\n",
      "Accuracy (Train/Test): 1.000/0.960\n",
      "\n",
      " Iteration: 77\n",
      "Cross Entropy (Train/Test): 1.071/96.922\n",
      "Accuracy (Train/Test): 1.000/0.956\n",
      "\n",
      " Iteration: 78\n",
      "Cross Entropy (Train/Test): 0.808/99.864\n",
      "Accuracy (Train/Test): 1.000/0.958\n",
      "\n",
      " Iteration: 79\n",
      "Cross Entropy (Train/Test): 0.649/102.936\n",
      "Accuracy (Train/Test): 1.000/0.953\n",
      "\n",
      " Iteration: 80\n",
      "Cross Entropy (Train/Test): 0.543/105.960\n",
      "Accuracy (Train/Test): 1.000/0.956\n",
      "\n",
      " Iteration: 81\n",
      "Cross Entropy (Train/Test): 0.417/110.235\n",
      "Accuracy (Train/Test): 1.000/0.956\n",
      "\n",
      " Iteration: 82\n",
      "Cross Entropy (Train/Test): 0.357/116.548\n",
      "Accuracy (Train/Test): 1.000/0.960\n",
      "\n",
      " Iteration: 83\n",
      "Cross Entropy (Train/Test): 0.261/120.357\n",
      "Accuracy (Train/Test): 1.000/0.958\n",
      "\n",
      " Iteration: 84\n",
      "Cross Entropy (Train/Test): 0.197/124.608\n",
      "Accuracy (Train/Test): 1.000/0.960\n",
      "\n",
      " Iteration: 85\n",
      "Cross Entropy (Train/Test): 0.140/130.051\n",
      "Accuracy (Train/Test): 1.000/0.960\n",
      "\n",
      " Iteration: 86\n",
      "Cross Entropy (Train/Test): 0.096/133.432\n",
      "Accuracy (Train/Test): 1.000/0.960\n",
      "\n",
      " Iteration: 87\n",
      "Cross Entropy (Train/Test): 0.063/143.293\n",
      "Accuracy (Train/Test): 1.000/0.962\n",
      "\n",
      " Iteration: 88\n",
      "Cross Entropy (Train/Test): 0.047/149.238\n",
      "Accuracy (Train/Test): 1.000/0.962\n",
      "\n",
      " Iteration: 89\n",
      "Cross Entropy (Train/Test): 0.026/157.763\n",
      "Accuracy (Train/Test): 1.000/0.962\n",
      "\n",
      " Iteration: 90\n",
      "Cross Entropy (Train/Test): 0.015/165.214\n",
      "Accuracy (Train/Test): 1.000/0.964\n",
      "\n",
      " Iteration: 91\n",
      "Cross Entropy (Train/Test): 0.008/171.954\n",
      "Accuracy (Train/Test): 1.000/0.964\n",
      "\n",
      " Iteration: 92\n",
      "Cross Entropy (Train/Test): 0.005/179.239\n",
      "Accuracy (Train/Test): 1.000/0.964\n",
      "\n",
      " Iteration: 93\n",
      "Cross Entropy (Train/Test): 0.003/188.459\n",
      "Accuracy (Train/Test): 1.000/0.962\n",
      "\n",
      " Iteration: 94\n",
      "Cross Entropy (Train/Test): 0.002/205.749\n",
      "Accuracy (Train/Test): 1.000/0.964\n",
      "\n",
      " Iteration: 95\n",
      "Cross Entropy (Train/Test): 0.001/209.072\n",
      "Accuracy (Train/Test): 1.000/0.964\n",
      "\n",
      " Iteration: 96\n",
      "Cross Entropy (Train/Test): 0.001/213.101\n",
      "Accuracy (Train/Test): 1.000/0.964\n",
      "\n",
      " Iteration: 97\n",
      "Cross Entropy (Train/Test): 0.000/222.116\n",
      "Accuracy (Train/Test): 1.000/0.962\n",
      "\n",
      " Iteration: 98\n",
      "Cross Entropy (Train/Test): 0.000/230.391\n",
      "Accuracy (Train/Test): 1.000/0.962\n",
      "\n",
      " Iteration: 99\n",
      "Cross Entropy (Train/Test): 0.000/250.286\n",
      "Accuracy (Train/Test): 1.000/0.960\n",
      "\n",
      " Iteration: 100\n",
      "Cross Entropy (Train/Test): 0.000/259.272\n",
      "Accuracy (Train/Test): 1.000/0.960\n",
      "\n",
      " Iteration: 101\n",
      "Cross Entropy (Train/Test): 0.000/275.997\n",
      "Accuracy (Train/Test): 1.000/0.960\n",
      "\n",
      " Iteration: 102\n",
      "Cross Entropy (Train/Test): 0.000/289.450\n",
      "Accuracy (Train/Test): 1.000/0.962\n"
     ]
    },
    {
     "name": "stdout",
     "output_type": "stream",
     "text": [
      "\n",
      " Iteration: 103\n",
      "Cross Entropy (Train/Test): 0.000/303.992\n",
      "Accuracy (Train/Test): 1.000/0.960\n",
      "\n",
      " Iteration: 104\n",
      "Cross Entropy (Train/Test): 0.000/318.745\n",
      "Accuracy (Train/Test): 1.000/0.960\n",
      "\n",
      " Iteration: 105\n",
      "Cross Entropy (Train/Test): 0.000/335.411\n",
      "Accuracy (Train/Test): 1.000/0.962\n",
      "\n",
      " Iteration: 106\n",
      "Cross Entropy (Train/Test): 0.000/357.861\n",
      "Accuracy (Train/Test): 1.000/0.960\n",
      "\n",
      " Iteration: 107\n",
      "Cross Entropy (Train/Test): 0.000/372.708\n",
      "Accuracy (Train/Test): 1.000/0.960\n"
     ]
    }
   ],
   "source": [
    "network = make_network(32, 3)\n",
    "weights = get_weights(network)\n",
    "cb = Callback(network, X_train, y_train, X_test, y_test, print=True)\n",
    "res = minimize(\n",
    "    compute_loss_grad, weights,\n",
    "    args=[network, X_train, y_train],\n",
    "    method=\"L-BFGS-B\",\n",
    "    jac=True,\n",
    "    callback=cb.call\n",
    ")"
   ]
  },
  {
   "cell_type": "markdown",
   "metadata": {
    "pycharm": {}
   },
   "source": [
    "Изобразите на графике кривую качества на обучени ии контроле по итерациям:"
   ]
  },
  {
   "cell_type": "code",
   "execution_count": 101,
   "metadata": {
    "pycharm": {}
   },
   "outputs": [
    {
     "data": {
      "image/png": "[encoded data removed]",
      "text/plain": [
       "<Figure size 1440x720 with 2 Axes>"
      ]
     },
     "metadata": {
      "needs_background": "light"
     },
     "output_type": "display_data"
    }
   ],
   "source": [
    "fig, ax = plt.subplots(1, 2, figsize=(20, 10))\n",
    "\n",
    "ax[0].plot(cb.train_acc, label=\"train acc\")\n",
    "ax[0].plot(cb.test_acc, label=\"test acc\")\n",
    "ax[0].set_xlabel(\"Iteration\")\n",
    "ax[0].set_ylabel(\"Accuracy\")\n",
    "ax[0].grid()\n",
    "ax[0].legend()\n",
    "\n",
    "ax[1].plot(cb.train_ce, label=\"train ce\")\n",
    "ax[1].plot(cb.test_ce, label=\"test ce\")\n",
    "ax[1].set_xlabel(\"Iteration\")\n",
    "ax[1].set_ylabel(\"Cross Entropy\")\n",
    "ax[1].grid()\n",
    "ax[1].legend()\n",
    "\n",
    "plt.show()"
   ]
  },
  {
   "cell_type": "markdown",
   "metadata": {
    "pycharm": {}
   },
   "source": [
    "## Эксперименты с числом слоев (2 балла)"
   ]
  },
  {
   "cell_type": "markdown",
   "metadata": {
    "pycharm": {}
   },
   "source": [
    "Ясно, что из-за случайного начального приближения с каждым запуском обучения мы будем получать различное качество. Попробуем обучать нашу нейросеть с разным числом слоев несколько раз.\n",
    "\n",
    "Заполните матрицы accs_train и accs_test. В позиции [i, j] должна стоять величина точности сети с $i+1$ полносвязными слоями при $j$-м запуске (все запуски идентичны)."
   ]
  },
  {
   "cell_type": "code",
   "execution_count": 102,
   "metadata": {
    "pycharm": {}
   },
   "outputs": [],
   "source": [
    "accs_train = np.zeros((6, 5))\n",
    "accs_test = np.zeros((6, 5))"
   ]
  },
  {
   "cell_type": "code",
   "execution_count": 103,
   "metadata": {
    "pycharm": {}
   },
   "outputs": [],
   "source": [
    "for idx in range(accs_train.shape[0]):\n",
    "    for jdx in range(accs_train.shape[1]):\n",
    "        network = make_network(32, idx + 1)\n",
    "        cb = Callback(network, X_train, y_train, X_test, y_test, print=False)\n",
    "        weights = get_weights(network)        \n",
    "        res = minimize(\n",
    "            compute_loss_grad, weights,  \n",
    "            args=[network, X_train, y_train], \n",
    "            method=\"L-BFGS-B\",\n",
    "            jac=True,\n",
    "            callback=cb.call\n",
    "        )\n",
    "        accs_train[idx, jdx] = cb.train_acc[-1]\n",
    "        accs_test[idx, jdx] = cb.test_acc[-1]         "
   ]
  },
  {
   "cell_type": "markdown",
   "metadata": {
    "pycharm": {}
   },
   "source": [
    "Построим боксплоты полученного качества (горизонтальная линия в каждом столбце - среднее, прямоугольник показывает разброс)."
   ]
  },
  {
   "cell_type": "code",
   "execution_count": 104,
   "metadata": {
    "pycharm": {}
   },
   "outputs": [
    {
     "data": {
      "image/png": "[encoded data removed]",
      "text/plain": [
       "<Figure size 1440x720 with 2 Axes>"
      ]
     },
     "metadata": {
      "needs_background": "light"
     },
     "output_type": "display_data"
    }
   ],
   "source": [
    "fig, ax = plt.subplots(1, 2, figsize=(20, 10))\n",
    "\n",
    "ax[0].boxplot(accs_train.T, showfliers=False)\n",
    "ax[0].set_xlabel(\"Num layers\")\n",
    "ax[0].set_ylabel(\"Train accuracy\")\n",
    "ax[0].set_title('Train quality in 5 runs')\n",
    "ax[0].set_ylim([0., 1.05])\n",
    "ax[0].grid()\n",
    "\n",
    "ax[1].boxplot(accs_test.T, showfliers=False)\n",
    "ax[1].set_xlabel(\"Num layers\")\n",
    "ax[1].set_ylabel(\"Test accuracy\")\n",
    "ax[1].set_title('Test quality in 5 runs')\n",
    "ax[1].set_ylim([0., 1.05])\n",
    "ax[1].grid()\n",
    "\n",
    "plt.show()"
   ]
  },
  {
   "cell_type": "markdown",
   "metadata": {
    "pycharm": {}
   },
   "source": [
    "Ответьте на вопросы (кратко в этой же ячейке):\n",
    "* Как изменяются качество на обучении и контроле и устойчивость процесса обучения при увеличении числа слоев?  \n",
    "** При небольшом числе слоёв (до пяти включительно) модель достигает идеальной точности классификации на обучающей выборке и имеет небольшую дисперсию качества на тестовой выборке. При этом качество незначительно меняется при изменении числа слоёв. Однако, при числе слоёв большем шести сеть перестаёт обучаться, что выражается в качестве классификации порядка 10% на обучающей и тестовой выборках. Это может быть связано с затуханием градиентов в глубоких сетях.\n",
    "* Можно ли сказать, что логистическая регрессия (линейная модель) дает качество хуже, чем нелинейная модель?  \n",
    "** В целом, логистическая регрессия (однослойная нейронная сеть) даёт сравнимое качество в данной задаче, хотя большее число слоёв позволяет улучшить качество на несколько процентов."
   ]
  },
  {
   "cell_type": "markdown",
   "metadata": {
    "pycharm": {}
   },
   "source": [
    "\\* Несколько фрагментов кода в задании написаны на основе материалов [курса по глубинному обучению на ФКН НИУ ВШЭ](https://www.hse.ru/ba/ami/courses/205504078.html)"
   ]
  },
  {
   "cell_type": "markdown",
   "metadata": {
    "pycharm": {}
   },
   "source": [
    "## Бонусная часть"
   ]
  },
  {
   "cell_type": "markdown",
   "metadata": {
    "pycharm": {}
   },
   "source": [
    "## Реализация метода оптимизации (1 балл)\n",
    "\n",
    "Реализуйте сами метод оптимизации (аналог функции minimize) для рассмотренной выше архитектуры. В качестве метода оптимизации используйте SGD + momentum. Продемонстрируйте правильную работу метода оптимизации, сравните его работы с LBFGS-B. Сделайте выводы."
   ]
  },
  {
   "cell_type": "markdown",
   "metadata": {
    "pycharm": {}
   },
   "source": [
    "## Dropout (1 балл) \n",
    "\n",
    "Реализуйте слой Dropout. Сравните обучение сети из большого числа слоёв при использовании Dropout и без его использования (предварительно подберите адекватный параметр p). Сделайте выводы. Используя метод оптимизации из первого бонусного пункта. "
   ]
  },
  {
   "cell_type": "markdown",
   "metadata": {
    "pycharm": {}
   },
   "source": [
    "## BatchNormalization (1 балл)\n",
    "\n",
    "Реализуйте слой BatchNormalization. Сравните обучение сети из большого числа слоёв при использовании BatchNormalization и без его использования.  Сделайте выводы. Используя метод оптимизации из первого бонусного пункта. "
   ]
  }
 ],
 "metadata": {
  "kernelspec": {
   "display_name": "PyCharm (01.nn_numpy)",
   "language": "python",
   "name": "pycharm-ab619662"
  },
  "language_info": {
   "codemirror_mode": {
    "name": "ipython",
    "version": 3
   },
   "file_extension": ".py",
   "mimetype": "text/x-python",
   "name": "python",
   "nbconvert_exporter": "python",
   "pygments_lexer": "ipython3",
   "version": "3.7.0"
  }
 },
 "nbformat": 4,
 "nbformat_minor": 2
}
